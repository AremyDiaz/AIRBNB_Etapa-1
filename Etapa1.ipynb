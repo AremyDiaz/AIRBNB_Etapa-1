{
 "cells": [
  {
   "cell_type": "code",
   "execution_count": null,
   "metadata": {},
   "outputs": [],
   "source": [
    "#Importamos las librerias pandas, numpy y matplotlib respectivamente\n",
    "import pandas as pd\n",
    "import numpy as np\n",
    "import matplotlib.pyplot as plt"
   ]
  },
  {
   "cell_type": "code",
   "execution_count": null,
   "metadata": {},
   "outputs": [],
   "source": [
    "#Carga del archivo.csv\n",
    "data = pd.read_csv(\"airbnb.csv\",encoding=\"ISO-8859-1\") #, index_col=0\n",
    "data"
   ]
  },
  {
   "cell_type": "markdown",
   "metadata": {},
   "source": [
    "Métodos para reemplazar valores nulos en cada columna"
   ]
  },
  {
   "cell_type": "code",
   "execution_count": null,
   "metadata": {},
   "outputs": [],
   "source": [
    "#Copia del dataset original\n",
    "data2 = data.copy()\n",
    "data2"
   ]
  },
  {
   "cell_type": "code",
   "execution_count": null,
   "metadata": {},
   "outputs": [],
   "source": [
    "#Cuántos nulos hay por columna\n",
    "valores_nulos=data2.isnull().sum()\n",
    "valores_nulos"
   ]
  },
  {
   "cell_type": "code",
   "execution_count": null,
   "metadata": {},
   "outputs": [],
   "source": [
    "#“host_name”: Rellenar con el objeto \"anterior\" de la columna\n",
    "data2[\"host_name\"]=data2[\"host_name\"].fillna(method=\"bfill\")"
   ]
  },
  {
   "cell_type": "code",
   "execution_count": null,
   "metadata": {},
   "outputs": [],
   "source": [
    "#“neighbourhood”: Rellenar con el objeto \"posterior\" de la columna\n",
    "data2[\"neighbourhood\"]=data2[\"neighbourhood\"].fillna(method=\"ffill\")"
   ]
  },
  {
   "cell_type": "code",
   "execution_count": null,
   "metadata": {},
   "outputs": [],
   "source": [
    "#“latitude ”: Rellenar con el valor de “Media” de la columna con cinco decimales\n",
    "data2[\"latitude\"]=data2[\"latitude\"].fillna(round(data[\"latitude\"].mean(),5))"
   ]
  },
  {
   "cell_type": "code",
   "execution_count": null,
   "metadata": {},
   "outputs": [],
   "source": [
    "#“longitude”: Rellenar con el valor de “Mediana” de la columna con cinco decimales\n",
    "data2[\"longitude\"]=data2[\"longitude\"].fillna(round(data[\"longitude\"].median(),5))"
   ]
  },
  {
   "cell_type": "code",
   "execution_count": null,
   "metadata": {},
   "outputs": [],
   "source": [
    "#“room_type”: Rellenar con el string “Private room”\n",
    "data2[\"room_type\"] =data2[\"room_type\"].fillna(\"Private room\")"
   ]
  },
  {
   "cell_type": "code",
   "execution_count": null,
   "metadata": {},
   "outputs": [],
   "source": [
    "#“price”: Rellenar con el valor de “Media” de la columna\n",
    "data2[\"price\"]=data2[\"price\"].fillna(round(data[\"price\"].mean(),2))"
   ]
  },
  {
   "cell_type": "code",
   "execution_count": null,
   "metadata": {},
   "outputs": [],
   "source": [
    "#“minimum_nights”: Rellenar con el valor de “1”\n",
    "data2[\"minimum_nights\"]= data2[\"minimum_nights\"].fillna(1)"
   ]
  },
  {
   "cell_type": "code",
   "execution_count": null,
   "metadata": {},
   "outputs": [],
   "source": [
    "#\"number_of_reviews\": Rellenar con el valor de “0”\n",
    "data2[\"number_of_reviews\"]= data2[\"number_of_reviews\"].fillna(0)"
   ]
  },
  {
   "cell_type": "code",
   "execution_count": null,
   "metadata": {},
   "outputs": [],
   "source": [
    "#\"last_review\":Rellenar con el objeto \"31/12/2022\" de la columna \n",
    "data2[\"last_review\"] =data2[\"last_review\"].fillna(\"31/12/2022\")"
   ]
  },
  {
   "cell_type": "code",
   "execution_count": null,
   "metadata": {},
   "outputs": [],
   "source": [
    "#\"reviews_per_month\": Rellenar con el valor de “Media” de la columna\n",
    "data2[\"reviews_per_month\"]=data2[\"reviews_per_month\"].fillna(round(data[\"reviews_per_month\"].mean(),2))"
   ]
  },
  {
   "cell_type": "code",
   "execution_count": null,
   "metadata": {},
   "outputs": [],
   "source": [
    "#\"calculated_host_listings_count\": Rellenar con el valor de “1”\n",
    "data2[\"calculated_host_listings_count\"]= data2[\"calculated_host_listings_count\"].fillna(1)"
   ]
  },
  {
   "cell_type": "code",
   "execution_count": null,
   "metadata": {},
   "outputs": [],
   "source": [
    "#\"availability_365\" y \"number of reviews ltm\": Rellenar con el objeto \"anterior\" de cada columna, respectivamente. \n",
    "data2[\"availability_365\"]=data2[\"availability_365\"].fillna(method=\"bfill\")\n",
    "data2[\"number_of_reviews_ltm\"]=data2[\"number_of_reviews_ltm\"].fillna(method=\"bfill\")"
   ]
  },
  {
   "cell_type": "code",
   "execution_count": null,
   "metadata": {},
   "outputs": [],
   "source": [
    "#Métodos libres para las columnas faltantes\n",
    "data2[\"name\"]=data2[\"name\"].fillna(\"No especificado\")\n",
    "data2[\"neighbourhood_group\"]=data2[\"neighbourhood_group\"].fillna(\"Desconocido\")\n",
    "\n",
    "#Comprobación final\n",
    "valores_nulos=data2.isnull().sum()\n",
    "valores_nulos"
   ]
  },
  {
   "cell_type": "markdown",
   "metadata": {},
   "source": [
    "TRATADO DE OUTLIERS"
   ]
  },
  {
   "cell_type": "code",
   "execution_count": null,
   "metadata": {},
   "outputs": [],
   "source": [
    "#Copia del dataset sin nulos\n",
    "data3 = data2.copy()\n",
    "data3"
   ]
  },
  {
   "cell_type": "markdown",
   "metadata": {},
   "source": [
    "Distribución normal"
   ]
  },
  {
   "cell_type": "code",
   "execution_count": null,
   "metadata": {},
   "outputs": [],
   "source": [
    "#Valores extremos: límite superior y límite inferior.\n",
    "#Variable: latitude.\n",
    "x1=data3[\"latitude\"]\n",
    "LS1= x1.mean() + 3*x1.std()\n",
    "LI1= x1.mean() - 3*x1.std()\n",
    "print(\"Limite superior permitido\", LS1)\n",
    "print(\"Limite inferior permitido\", LI1)"
   ]
  },
  {
   "cell_type": "code",
   "execution_count": null,
   "metadata": {},
   "outputs": [],
   "source": [
    "#Outliers de latitude.\n",
    "outliers_latitude = data3[(x1>LS1)|(x1<LI1)]\n",
    "outliers_latitude"
   ]
  },
  {
   "cell_type": "code",
   "execution_count": null,
   "metadata": {},
   "outputs": [],
   "source": [
    "#Diagrama de caja: latitude.\n",
    "fig1 = plt.figure(figsize =(5, 3))\n",
    "plt.boxplot(data3[\"latitude\"]) #boxplot() usa iqr\n",
    "plt.title(\"Outliers de latitude\")\n",
    "plt.show() #diagrama para visualizar outliers. En este caso no serán tratados, porque el dato indica ubicación."
   ]
  },
  {
   "cell_type": "code",
   "execution_count": null,
   "metadata": {},
   "outputs": [],
   "source": [
    "#Valores extremos: límite superior y límite inferior.\n",
    "#Variable: longitude.\n",
    "x2=data3[\"longitude\"]\n",
    "LS2= x2.mean() + 3*x2.std()\n",
    "LI2= x2.mean() - 3*x2.std()\n",
    "print(\"Limite superior permitido\", LS2)\n",
    "print(\"Limite inferior permitido\", LI2)"
   ]
  },
  {
   "cell_type": "code",
   "execution_count": null,
   "metadata": {},
   "outputs": [],
   "source": [
    "#Outliers de longitude.\n",
    "outliers_longitude = data3[(x2>LS2)|(x2<LI2)]\n",
    "outliers_longitude"
   ]
  },
  {
   "cell_type": "code",
   "execution_count": null,
   "metadata": {},
   "outputs": [],
   "source": [
    "#Diagrama de caja: longitude.\n",
    "fig2 = plt.figure(figsize =(5, 3))\n",
    "plt.boxplot(data3[\"longitude\"]) #boxplot() usa iqr\n",
    "plt.title(\"Outliers de longitude\")\n",
    "plt.show() #diagrama para visualizar outliers. En este caso no serán tratados, porque el dato indica ubicación."
   ]
  },
  {
   "cell_type": "code",
   "execution_count": null,
   "metadata": {},
   "outputs": [],
   "source": [
    "#Valores extremos: límite superior y límite inferior.\n",
    "#Variable: price.\n",
    "x3=data3[\"price\"]\n",
    "LS3= x3.mean() + 3*x3.std()\n",
    "LI3= x3.mean() - 3*x3.std()\n",
    "print(\"Limite superior permitido\", LS3)\n",
    "print(\"Limite inferior permitido\", LI3)"
   ]
  },
  {
   "cell_type": "code",
   "execution_count": null,
   "metadata": {},
   "outputs": [],
   "source": [
    "#Outliers de price.\n",
    "outliers_price = data3[(x3>LS3)|(x3<LI3)]\n",
    "outliers_price"
   ]
  },
  {
   "cell_type": "code",
   "execution_count": null,
   "metadata": {},
   "outputs": [],
   "source": [
    "#Diagrama de caja: price.\n",
    "fig3 = plt.figure(figsize =(5, 3))\n",
    "plt.boxplot(data3[\"price\"]) #boxplot() usa iqr\n",
    "plt.title(\"Outliers de price\")\n",
    "plt.show() "
   ]
  },
  {
   "cell_type": "code",
   "execution_count": null,
   "metadata": {},
   "outputs": [],
   "source": [
    "#Valores extremos: límite superior y límite inferior.\n",
    "#Variable: minimum_nights.\n",
    "x4=data3[\"minimum_nights\"]\n",
    "LS4= x4.mean() + 3*x4.std()\n",
    "LI4= x4.mean() - 3*x4.std()\n",
    "print(\"Limite superior permitido\", LS4)\n",
    "print(\"Limite inferior permitido\", LI4)"
   ]
  },
  {
   "cell_type": "code",
   "execution_count": null,
   "metadata": {},
   "outputs": [],
   "source": [
    "#Outliers de minimum_nights.\n",
    "outliers_minimum_nights = data3[(x4>LS4)|(x4<LI4)]\n",
    "outliers_minimum_nights"
   ]
  },
  {
   "cell_type": "code",
   "execution_count": null,
   "metadata": {},
   "outputs": [],
   "source": [
    "#Diagrama de caja: minimum_nights.\n",
    "fig4 = plt.figure(figsize =(5, 3))\n",
    "plt.boxplot(data3[\"minimum_nights\"]) #boxplot() usa iqr\n",
    "plt.title(\"Outliers de minimum_nights\")\n",
    "plt.show() "
   ]
  },
  {
   "cell_type": "code",
   "execution_count": null,
   "metadata": {},
   "outputs": [],
   "source": [
    "#Valores extremos: límite superior y límite inferior.\n",
    "#Variable: number_of_reviews.\n",
    "x5=data3[\"number_of_reviews\"]\n",
    "LS5= x5.mean() + 3*x5.std()\n",
    "LI5= x5.mean() - 3*x5.std()\n",
    "print(\"Limite superior permitido\", LS5)\n",
    "print(\"Limite inferior permitido\", LI5)"
   ]
  },
  {
   "cell_type": "code",
   "execution_count": null,
   "metadata": {},
   "outputs": [],
   "source": [
    "#Outliers de minimum_nights.\n",
    "outliers_number_of_reviews = data3[(x5>LS5)|(x5<LI5)]\n",
    "outliers_number_of_reviews"
   ]
  },
  {
   "cell_type": "code",
   "execution_count": null,
   "metadata": {},
   "outputs": [],
   "source": [
    "#Diagrama de caja: number_of_reviews.\n",
    "fig5 = plt.figure(figsize =(5, 3))\n",
    "plt.boxplot(data3[\"number_of_reviews\"]) #boxplot() usa iqr\n",
    "plt.title(\"Outliers de number_of_reviews\")\n",
    "plt.show() "
   ]
  },
  {
   "cell_type": "code",
   "execution_count": null,
   "metadata": {},
   "outputs": [],
   "source": [
    "#Valores extremos: límite superior y límite inferior.\n",
    "#Variable: reviews_per_month.\n",
    "x6=data3[\"reviews_per_month\"]\n",
    "LS6= x6.mean() + 3*x6.std()\n",
    "LI6= x6.mean() - 3*x6.std()\n",
    "print(\"Limite superior permitido\", LS6)\n",
    "print(\"Limite inferior permitido\", LI6)"
   ]
  },
  {
   "cell_type": "code",
   "execution_count": null,
   "metadata": {},
   "outputs": [],
   "source": [
    "#Outliers de reviews_per_month.\n",
    "outliers_reviews_per_month = data3[(x6>LS6)|(x6<LI6)]\n",
    "outliers_reviews_per_month"
   ]
  },
  {
   "cell_type": "code",
   "execution_count": null,
   "metadata": {},
   "outputs": [],
   "source": [
    "#Diagrama de caja: reviews_per_month.\n",
    "fig6 = plt.figure(figsize =(5, 3))\n",
    "plt.boxplot(data3[\"reviews_per_month\"]) #boxplot() usa iqr\n",
    "plt.title(\"Outliers de reviews_per_month\")\n",
    "plt.show()"
   ]
  },
  {
   "cell_type": "code",
   "execution_count": null,
   "metadata": {},
   "outputs": [],
   "source": [
    "#Valores extremos: límite superior y límite inferior.\n",
    "#Variable: availability_365.\n",
    "x7=data3[\"availability_365\"]\n",
    "LS7= x7.mean() + 3*x7.std()\n",
    "LI7= x7.mean() - 3*x7.std()\n",
    "print(\"Limite superior permitido\", LS7)\n",
    "print(\"Limite inferior permitido\", LI7)"
   ]
  },
  {
   "cell_type": "code",
   "execution_count": null,
   "metadata": {},
   "outputs": [],
   "source": [
    "#Outliers de availability_365.\n",
    "outliers_availability_365 = data3[(x7>LS7)|(x7<LI7)]\n",
    "outliers_availability_365"
   ]
  },
  {
   "cell_type": "code",
   "execution_count": null,
   "metadata": {},
   "outputs": [],
   "source": [
    "#Diagrama de caja: reviews_per_month.\n",
    "fig7 = plt.figure(figsize =(5, 3))\n",
    "plt.boxplot(data3[\"availability_365\"]) #boxplot() usa iqr\n",
    "plt.title(\"Outliers de availability_365\")\n",
    "plt.show()"
   ]
  },
  {
   "cell_type": "markdown",
   "metadata": {},
   "source": [
    "Rango intercuartílico"
   ]
  },
  {
   "cell_type": "code",
   "execution_count": null,
   "metadata": {},
   "outputs": [],
   "source": [
    "#Valores extremos: límite superior y límite inferior.\n",
    "#Variable: latitud.\n",
    "\n",
    "p25x1=x1.quantile(0.25) #Q1\n",
    "p75x1=x1.quantile(0.75) #Q3\n",
    "iqrx1 = p75x1 - p25x1 #Q3-Q1\n",
    "\n",
    "LS_iqr_x1 = p75x1 + 1.5*iqrx1\n",
    "LI_iqr_x1 = p25x1 - 1.5*iqrx1\n",
    "print(\"Limite superior permitido\", LS_iqr_x1)\n",
    "print(\"Limite inferior permitido\", LI_iqr_x1)"
   ]
  },
  {
   "cell_type": "code",
   "execution_count": null,
   "metadata": {},
   "outputs": [],
   "source": [
    "#Outliers de latitud\n",
    "outliers_latitud = data2[(x1>LS_iqr_x1)|(x1<LI_iqr_x1)]\n",
    "outliers_latitud"
   ]
  },
  {
   "cell_type": "code",
   "execution_count": null,
   "metadata": {},
   "outputs": [],
   "source": [
    "#Valores extremos: límite superior y límite inferior.\n",
    "#Variable: longitude.\n",
    "\n",
    "p25x2=x2.quantile(0.25) #Q1\n",
    "p75x2=x2.quantile(0.75) #Q3\n",
    "iqrx2 = p75x2 - p25x2 #Q3-Q1\n",
    "\n",
    "LS_iqr_x2 = p75x2 + 1.5*iqrx2\n",
    "LI_iqr_x2 = p25x2 - 1.5*iqrx2\n",
    "print(\"Limite superior permitido\", LS_iqr_x2)\n",
    "print(\"Limite inferior permitido\", LI_iqr_x2)"
   ]
  },
  {
   "cell_type": "code",
   "execution_count": null,
   "metadata": {},
   "outputs": [],
   "source": [
    "#Outliers de longitud\n",
    "outliers_longitud = data2[(x2>LS_iqr_x2)|(x2<LI_iqr_x2)]\n",
    "outliers_longitud"
   ]
  },
  {
   "cell_type": "code",
   "execution_count": null,
   "metadata": {},
   "outputs": [],
   "source": [
    "#Valores extremos: límite superior y límite inferior.\n",
    "#Variable: price.\n",
    "\n",
    "p25x3=x3.quantile(0.25) #Q1\n",
    "p75x3=x3.quantile(0.75) #Q3\n",
    "iqrx3 = p75x3 - p25x3 #Q3-Q1\n",
    "\n",
    "LS_iqr_x3 = p75x3 + 1.5*iqrx3\n",
    "LI_iqr_x3 = p25x3 - 1.5*iqrx3\n",
    "print(\"Limite superior permitido\", LS_iqr_x3)\n",
    "print(\"Limite inferior permitido\", LI_iqr_x3)"
   ]
  },
  {
   "cell_type": "code",
   "execution_count": null,
   "metadata": {},
   "outputs": [],
   "source": [
    "#Outliers de price\n",
    "outliers_price = data2[(x3>LS_iqr_x3)|(x3<LI_iqr_x3)]\n",
    "outliers_price"
   ]
  },
  {
   "cell_type": "code",
   "execution_count": null,
   "metadata": {},
   "outputs": [],
   "source": [
    "#Valores extremos: límite superior y límite inferior.\n",
    "#Variable: minimum_nights.\n",
    "\n",
    "p25x4=x4.quantile(0.25) #Q1\n",
    "p75x4=x4.quantile(0.75) #Q3\n",
    "iqrx4 = p75x4 - p25x4 #Q3-Q1\n",
    "\n",
    "LS_iqr_x4 = p75x4 + 1.5*iqrx4\n",
    "LI_iqr_x4 = p25x4 - 1.5*iqrx4\n",
    "print(\"Limite superior permitido\", LS_iqr_x4)\n",
    "print(\"Limite inferior permitido\", LI_iqr_x4)"
   ]
  },
  {
   "cell_type": "code",
   "execution_count": null,
   "metadata": {},
   "outputs": [],
   "source": [
    "#Outliers de minimum_nights\n",
    "outliers_minimum_nights = data2[(x4>LS_iqr_x4)|(x4<LI_iqr_x4)]\n",
    "outliers_minimum_nights"
   ]
  },
  {
   "cell_type": "code",
   "execution_count": null,
   "metadata": {},
   "outputs": [],
   "source": [
    "#Valores extremos: límite superior y límite inferior.\n",
    "#Variable: number_of_reviews.\n",
    "\n",
    "p25x5=x5.quantile(0.25) #Q1\n",
    "p75x5=x5.quantile(0.75) #Q3\n",
    "iqrx5 = p75x5 - p25x5 #Q3-Q1\n",
    "\n",
    "LS_iqr_x5 = p75x5 + 1.5*iqrx5\n",
    "LI_iqr_x5 = p25x5 - 1.5*iqrx5\n",
    "print(\"Limite superior permitido\", LS_iqr_x5)\n",
    "print(\"Limite inferior permitido\", LI_iqr_x5)"
   ]
  },
  {
   "cell_type": "code",
   "execution_count": null,
   "metadata": {},
   "outputs": [],
   "source": [
    "#Outliers de minimum_nights\n",
    "outliers_number_of_reviews = data2[(x5>LS_iqr_x5)|(x5<LI_iqr_x5)]\n",
    "outliers_number_of_reviews"
   ]
  },
  {
   "cell_type": "code",
   "execution_count": null,
   "metadata": {},
   "outputs": [],
   "source": [
    "#Valores extremos: límite superior y límite inferior.\n",
    "#Variable: reviews_per_month.\n",
    "\n",
    "p25x6=x6.quantile(0.25) #Q1\n",
    "p75x6=x6.quantile(0.75) #Q3\n",
    "iqrx6 = p75x6 - p25x6 #Q3-Q1\n",
    "\n",
    "LS_iqr_x6 = p75x6 + 1.5*iqrx6\n",
    "LI_iqr_x6 = p25x6 - 1.5*iqrx6\n",
    "print(\"Limite superior permitido\", LS_iqr_x6)\n",
    "print(\"Limite inferior permitido\", LI_iqr_x6)"
   ]
  },
  {
   "cell_type": "code",
   "execution_count": null,
   "metadata": {},
   "outputs": [],
   "source": [
    "#Outliers de reviews_per_month\n",
    "outliers_reviews_per_month = data2[(x6>LS_iqr_x6)|(x6<LI_iqr_x6)]\n",
    "outliers_reviews_per_month"
   ]
  },
  {
   "cell_type": "code",
   "execution_count": null,
   "metadata": {},
   "outputs": [],
   "source": [
    "#Valores extremos: límite superior y límite inferior.\n",
    "#Variable: availability_365.\n",
    "\n",
    "p25x7=x7.quantile(0.25) #Q1\n",
    "p75x7=x7.quantile(0.75) #Q3\n",
    "iqrx7 = p75x7 - p25x7 #Q3-Q1\n",
    "\n",
    "LS_iqr_x7 = p75x7 + 1.5*iqrx7\n",
    "LI_iqr_x7 = p25x7 - 1.5*iqrx7\n",
    "print(\"Limite superior permitido\", LS_iqr_x7)\n",
    "print(\"Limite inferior permitido\", LI_iqr_x7)"
   ]
  },
  {
   "cell_type": "code",
   "execution_count": null,
   "metadata": {},
   "outputs": [],
   "source": [
    "#Outliers de availability_365\n",
    "outliers_availability_365 = data2[(x7>LS_iqr_x7)|(x7<LI_iqr_x7)]\n",
    "outliers_availability_365"
   ]
  },
  {
   "cell_type": "code",
   "execution_count": null,
   "metadata": {},
   "outputs": [],
   "source": [
    "#Solo los gráficos de boxplot, usan iq, pero no quiere con desvest"
   ]
  }
 ],
 "metadata": {
  "kernelspec": {
   "display_name": "Python 3.10.6 64-bit (microsoft store)",
   "language": "python",
   "name": "python3"
  },
  "language_info": {
   "codemirror_mode": {
    "name": "ipython",
    "version": 3
   },
   "file_extension": ".py",
   "mimetype": "text/x-python",
   "name": "python",
   "nbconvert_exporter": "python",
   "pygments_lexer": "ipython3",
   "version": "3.10.6"
  },
  "orig_nbformat": 4,
  "vscode": {
   "interpreter": {
    "hash": "8bdb6cfb01423875b53bbdacac8cafabfbfae2881293bc8f69e02add7339e574"
   }
  }
 },
 "nbformat": 4,
 "nbformat_minor": 2
}
