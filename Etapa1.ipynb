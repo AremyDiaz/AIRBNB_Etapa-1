{
 "cells": [
  {
   "cell_type": "code",
   "execution_count": null,
   "metadata": {},
   "outputs": [],
   "source": [
    "#Importamos las librerias pandas, numpy y matplotlib respectivamente\n",
    "import pandas as pd\n",
    "import numpy as np\n",
    "import matplotlib.pyplot as plt"
   ]
  },
  {
   "cell_type": "code",
   "execution_count": null,
   "metadata": {},
   "outputs": [],
   "source": [
    "#Carga del archivo.csv\n",
    "data = pd.read_csv(\"airbnb.csv\",encoding=\"ISO-8859-1\") #, index_col=0\n",
    "data"
   ]
  },
  {
   "cell_type": "markdown",
   "metadata": {},
   "source": [
    "Métodos para reemplazar valores nulos en cada columna"
   ]
  },
  {
   "cell_type": "code",
   "execution_count": null,
   "metadata": {},
   "outputs": [],
   "source": [
    "#Copia del dataset original\n",
    "data2 = data.copy()\n",
    "data2"
   ]
  },
  {
   "cell_type": "code",
   "execution_count": null,
   "metadata": {},
   "outputs": [],
   "source": [
    "#Cuántos nulos hay por columna\n",
    "valores_nulos=data2.isnull().sum()\n",
    "valores_nulos"
   ]
  },
  {
   "cell_type": "code",
   "execution_count": null,
   "metadata": {},
   "outputs": [],
   "source": [
    "#“host_name”: Rellenar con el objeto \"anterior\" de la columna\n",
    "data2[\"host_name\"]=data2[\"host_name\"].fillna(method=\"bfill\")"
   ]
  },
  {
   "cell_type": "code",
   "execution_count": null,
   "metadata": {},
   "outputs": [],
   "source": [
    "#“neighbourhood”: Rellenar con el objeto \"posterior\" de la columna\n",
    "data2[\"neighbourhood\"]=data2[\"neighbourhood\"].fillna(method=\"ffill\")"
   ]
  },
  {
   "cell_type": "code",
   "execution_count": null,
   "metadata": {},
   "outputs": [],
   "source": [
    "#“latitude ”: Rellenar con el valor de “Media” de la columna con cinco decimales\n",
    "data2[\"latitude\"]=data2[\"latitude\"].fillna(round(data[\"latitude\"].mean(),5))"
   ]
  },
  {
   "cell_type": "code",
   "execution_count": null,
   "metadata": {},
   "outputs": [],
   "source": [
    "#“longitude”: Rellenar con el valor de “Mediana” de la columna con cinco decimales\n",
    "data2[\"longitude\"]=data2[\"longitude\"].fillna(round(data[\"longitude\"].median(),5))"
   ]
  },
  {
   "cell_type": "code",
   "execution_count": null,
   "metadata": {},
   "outputs": [],
   "source": [
    "#“room_type”: Rellenar con el string “Private room”\n",
    "data2[\"room_type\"] =data2[\"room_type\"].fillna(\"Private room\")"
   ]
  },
  {
   "cell_type": "code",
   "execution_count": null,
   "metadata": {},
   "outputs": [],
   "source": [
    "#“price”: Rellenar con el valor de “Media” de la columna\n",
    "data2[\"price\"]=data2[\"price\"].fillna(round(data[\"price\"].mean(),2))"
   ]
  },
  {
   "cell_type": "code",
   "execution_count": null,
   "metadata": {},
   "outputs": [],
   "source": [
    "#“minimum_nights”: Rellenar con el valor de “1”\n",
    "data2[\"minimum_nights\"]= data2[\"minimum_nights\"].fillna(1)"
   ]
  },
  {
   "cell_type": "code",
   "execution_count": null,
   "metadata": {},
   "outputs": [],
   "source": [
    "#\"number_of_reviews\": Rellenar con el valor de “0”\n",
    "data2[\"number_of_reviews\"]= data2[\"number_of_reviews\"].fillna(0)"
   ]
  },
  {
   "cell_type": "code",
   "execution_count": null,
   "metadata": {},
   "outputs": [],
   "source": [
    "#\"last_review\":Rellenar con el objeto \"31/12/2022\" de la columna \n",
    "data2[\"last_review\"] =data2[\"last_review\"].fillna(\"31/12/2022\")"
   ]
  },
  {
   "cell_type": "code",
   "execution_count": null,
   "metadata": {},
   "outputs": [],
   "source": [
    "#\"reviews_per_month\": Rellenar con el valor de “Media” de la columna\n",
    "data2[\"reviews_per_month\"]=data2[\"reviews_per_month\"].fillna(round(data[\"reviews_per_month\"].mean(),0))"
   ]
  },
  {
   "cell_type": "code",
   "execution_count": null,
   "metadata": {},
   "outputs": [],
   "source": [
    "#\"calculated_host_listings_count\": Rellenar con el valor de “1”\n",
    "data2[\"calculated_host_listings_count\"]= data2[\"calculated_host_listings_count\"].fillna(1)"
   ]
  },
  {
   "cell_type": "code",
   "execution_count": null,
   "metadata": {},
   "outputs": [],
   "source": [
    "#\"availability_365\" y \"number of reviews ltm\": Rellenar con el objeto \"anterior\" de cada columna, respectivamente. \n",
    "data2[\"availability_365\"]=data2[\"availability_365\"].fillna(method=\"bfill\")\n",
    "data2[\"number_of_reviews_ltm\"]=data2[\"number_of_reviews_ltm\"].fillna(method=\"bfill\")"
   ]
  },
  {
   "cell_type": "code",
   "execution_count": null,
   "metadata": {},
   "outputs": [],
   "source": [
    "#Métodos libres para las columnas faltantes\n",
    "data2[\"name\"]=data2[\"name\"].fillna(\"No especificado\")\n",
    "data2[\"neighbourhood_group\"]=data2[\"neighbourhood_group\"].fillna(\"Desconocido\")\n",
    "\n",
    "#Comprobación final\n",
    "valores_nulos=data2.isnull().sum()\n",
    "valores_nulos"
   ]
  },
  {
   "cell_type": "code",
   "execution_count": null,
   "metadata": {},
   "outputs": [],
   "source": [
    "#bfill para el anterior, ffill para el posterior\n",
    "#Solo los gráficos de boxplot, usan iq, pero no quiere con desvest"
   ]
  }
 ],
 "metadata": {
  "kernelspec": {
   "display_name": "Python 3.10.6 64-bit (microsoft store)",
   "language": "python",
   "name": "python3"
  },
  "language_info": {
   "codemirror_mode": {
    "name": "ipython",
    "version": 3
   },
   "file_extension": ".py",
   "mimetype": "text/x-python",
   "name": "python",
   "nbconvert_exporter": "python",
   "pygments_lexer": "ipython3",
   "version": "3.10.6"
  },
  "orig_nbformat": 4,
  "vscode": {
   "interpreter": {
    "hash": "8bdb6cfb01423875b53bbdacac8cafabfbfae2881293bc8f69e02add7339e574"
   }
  }
 },
 "nbformat": 4,
 "nbformat_minor": 2
}
